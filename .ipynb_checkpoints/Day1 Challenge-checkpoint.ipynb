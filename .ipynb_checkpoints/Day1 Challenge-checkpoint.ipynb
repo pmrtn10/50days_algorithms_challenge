{
 "cells": [
  {
   "cell_type": "markdown",
   "metadata": {},
   "source": [
    "# Big O Notation"
   ]
  },
  {
   "cell_type": "code",
   "execution_count": null,
   "metadata": {},
   "outputs": [],
   "source": [
    "# Big o Notation is a way we use for talking about how long an algorithm takes to run\n",
    "# Its how we compare the efficiency of different approches to a problem\n",
    "# In Big O Notation we usually talk about the \"worst case\""
   ]
  },
  {
   "cell_type": "code",
   "execution_count": null,
   "metadata": {},
   "outputs": [],
   "source": [
    "# Big O Notation -> run time -> how quickly it grows relative to the input"
   ]
  },
  {
   "cell_type": "code",
   "execution_count": null,
   "metadata": {},
   "outputs": [],
   "source": [
    "# Big O Notation -> use the size of the input (n)"
   ]
  },
  {
   "cell_type": "code",
   "execution_count": 6,
   "metadata": {},
   "outputs": [
    {
     "name": "stdout",
     "output_type": "stream",
     "text": [
      "1\n"
     ]
    }
   ],
   "source": [
    "# Ex1)\n",
    "\n",
    "def print_first_item(items):\n",
    "    print(items[0]) # --> requires 1 step which is the first element in the list\n",
    "    \n",
    "l = [1, 2, 3]    \n",
    "print_first_item(l)\n",
    "\n",
    "# runtime -> O(1) Constant time - relative to the input"
   ]
  },
  {
   "cell_type": "code",
   "execution_count": 13,
   "metadata": {},
   "outputs": [
    {
     "name": "stdout",
     "output_type": "stream",
     "text": [
      "1\n",
      "2\n",
      "3\n"
     ]
    }
   ],
   "source": [
    "def print_all_items(items):\n",
    "    for item in items:\n",
    "        print(item)\n",
    "        \n",
    "l = [1, 2, 3]    \n",
    "print_all_items(l)\n",
    "\n",
    "# runtime -> O(n) Linear time -> where n is the number of items in the list\n",
    "# or size of the list"
   ]
  },
  {
   "cell_type": "code",
   "execution_count": 14,
   "metadata": {},
   "outputs": [
    {
     "name": "stdout",
     "output_type": "stream",
     "text": [
      "1 1\n",
      "1 2\n",
      "1 3\n",
      "2 1\n",
      "2 2\n",
      "2 3\n",
      "3 1\n",
      "3 2\n",
      "3 3\n"
     ]
    }
   ],
   "source": [
    "def print_all_possible_ordered_pairs(items):\n",
    "    for first_item in items:\n",
    "        for second_item in items:\n",
    "            print(first_item, second_item)\n",
    "\n",
    "l = [1, 2, 3]\n",
    "print_all_possible_ordered_pairs(l)\n",
    "\n",
    "# runtime -> O(n^2) Quadratic time -> we're nesting loops. "
   ]
  },
  {
   "cell_type": "code",
   "execution_count": 16,
   "metadata": {},
   "outputs": [
    {
     "name": "stdout",
     "output_type": "stream",
     "text": [
      "hi\n",
      "hi\n"
     ]
    }
   ],
   "source": [
    "def say_hi_n_times(n):\n",
    "    for time in range(n):\n",
    "        print('hi')\n",
    "        \n",
    "say_hi_n_times(2)\n",
    "\n",
    "#runtime -> O(n)"
   ]
  },
  {
   "cell_type": "markdown",
   "metadata": {},
   "source": [
    "# Space Complexity"
   ]
  },
  {
   "cell_type": "code",
   "execution_count": null,
   "metadata": {},
   "outputs": [],
   "source": [
    "# Sometimes we want to optimize for using less memory instead of less time\n",
    "# We look for the size of input\n",
    "# Usually when we talk about space complexity, we're talking about \"additional space\""
   ]
  },
  {
   "cell_type": "code",
   "execution_count": 17,
   "metadata": {},
   "outputs": [],
   "source": [
    "def say_hi_n_times(n):\n",
    "    for time in range(n):\n",
    "        print('hi')\n",
    "        \n",
    "# space complexity -> O(1) space(we use a fixed number of variables)"
   ]
  },
  {
   "cell_type": "code",
   "execution_count": 18,
   "metadata": {},
   "outputs": [],
   "source": [
    "def list_of_hi_n_times(n):\n",
    "    hi_list = []\n",
    "    for time in range(n):\n",
    "        hi_list.append(\"hi\")\n",
    "    return hi_list\n",
    "# This function takes O(n)O(n) space (the size of hi_list scales with the size of the input)"
   ]
  },
  {
   "cell_type": "code",
   "execution_count": 19,
   "metadata": {},
   "outputs": [
    {
     "data": {
      "text/plain": [
       "'\\nRules:\\n    Worst case -> We always care about worst case\\n    Remove Constant -> No numbers we always drop constant\\n    Different Terms for input\\n    Drop non dominats\\n\\n'"
      ]
     },
     "execution_count": 19,
     "metadata": {},
     "output_type": "execute_result"
    }
   ],
   "source": [
    "\"\"\"\n",
    "Rules:\n",
    "    Worst case -> We always care about worst case\n",
    "    Remove Constant -> No numbers we always drop constant\n",
    "    Different Terms for input\n",
    "    Drop non dominats\n",
    "\n",
    "\"\"\""
   ]
  },
  {
   "cell_type": "code",
   "execution_count": 20,
   "metadata": {},
   "outputs": [
    {
     "name": "stdout",
     "output_type": "stream",
     "text": [
      "hello test\n"
     ]
    }
   ],
   "source": []
  },
  {
   "cell_type": "code",
   "execution_count": null,
   "metadata": {},
   "outputs": [],
   "source": []
  }
 ],
 "metadata": {
  "kernelspec": {
   "display_name": "Python 3",
   "language": "python",
   "name": "python3"
  },
  "language_info": {
   "codemirror_mode": {
    "name": "ipython",
    "version": 3
   },
   "file_extension": ".py",
   "mimetype": "text/x-python",
   "name": "python",
   "nbconvert_exporter": "python",
   "pygments_lexer": "ipython3",
   "version": "3.7.4"
  }
 },
 "nbformat": 4,
 "nbformat_minor": 2
}
